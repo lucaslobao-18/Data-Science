{
 "cells": [
  {
   "cell_type": "markdown",
   "id": "fe63bcbe-325b-4a6b-9fb1-ba18169c7ad7",
   "metadata": {},
   "source": [
    "Testando meu primeiro caderno"
   ]
  },
  {
   "cell_type": "code",
   "execution_count": 1,
   "id": "537aff3f-c5ca-40e4-b1f8-508890a07b7a",
   "metadata": {},
   "outputs": [
    {
     "name": "stdout",
     "output_type": "stream",
     "text": [
      "10\n"
     ]
    }
   ],
   "source": [
    "a = 5+4\n",
    "print(a)"
   ]
  }
 ],
 "metadata": {
  "kernelspec": {
   "display_name": "Python 3 (ipykernel)",
   "language": "python",
   "name": "python3"
  },
  "language_info": {
   "codemirror_mode": {
    "name": "ipython",
    "version": 3
   },
   "file_extension": ".py",
   "mimetype": "text/x-python",
   "name": "python",
   "nbconvert_exporter": "python",
   "pygments_lexer": "ipython3",
   "version": "3.13.2"
  }
 },
 "nbformat": 4,
 "nbformat_minor": 5
}
