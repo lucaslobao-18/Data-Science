{
 "cells": [
  {
   "cell_type": "markdown",
   "id": "8b241959-2dcd-4264-8665-c213833e493e",
   "metadata": {},
   "source": [
    "## Correlação dos Dados\n",
    "Se, próximo de 1 ou -1 -> Tem correlação\n",
    "Se, próximo de 0 -> Não tem correlação"
   ]
  },
  {
   "cell_type": "code",
   "execution_count": 13,
   "id": "52e487cc-c40c-452b-bbf5-aedc3385ddd2",
   "metadata": {},
   "outputs": [],
   "source": [
    "#Correlação de Pearson\n",
    "from scipy.stats import pearsonr\n",
    "import numpy as np"
   ]
  },
  {
   "cell_type": "code",
   "execution_count": null,
   "id": "647f0e54-6acc-40bd-8163-76bcec58bd21",
   "metadata": {},
   "outputs": [],
   "source": [
    "## Exemplo com listas"
   ]
  },
  {
   "cell_type": "code",
   "execution_count": 12,
   "id": "f1067539-5dba-48fc-b683-c809866e9ecb",
   "metadata": {},
   "outputs": [
    {
     "data": {
      "text/plain": [
       "array([ 5,  8, 11, 14, 17])"
      ]
     },
     "execution_count": 12,
     "metadata": {},
     "output_type": "execute_result"
    }
   ],
   "source": [
    "a = np.array ([1, 2, 3, 4, 5])\n",
    "\n",
    "b = a * 3 + 2\n",
    "b"
   ]
  },
  {
   "cell_type": "code",
   "execution_count": 19,
   "id": "943999e8-1a84-4e0c-b0ce-3494c1cc23fe",
   "metadata": {},
   "outputs": [
    {
     "name": "stdout",
     "output_type": "stream",
     "text": [
      "PearsonRResult(statistic=np.float64(1.0), pvalue=np.float64(0.0))\n"
     ]
    }
   ],
   "source": [
    "print(pearsonr(a,b))"
   ]
  },
  {
   "cell_type": "code",
   "execution_count": null,
   "id": "fcac472c-2064-4f2d-83c3-c00f1fd63dd6",
   "metadata": {},
   "outputs": [],
   "source": []
  }
 ],
 "metadata": {
  "kernelspec": {
   "display_name": "Python 3 (ipykernel)",
   "language": "python",
   "name": "python3"
  },
  "language_info": {
   "codemirror_mode": {
    "name": "ipython",
    "version": 3
   },
   "file_extension": ".py",
   "mimetype": "text/x-python",
   "name": "python",
   "nbconvert_exporter": "python",
   "pygments_lexer": "ipython3",
   "version": "3.13.3"
  }
 },
 "nbformat": 4,
 "nbformat_minor": 5
}
