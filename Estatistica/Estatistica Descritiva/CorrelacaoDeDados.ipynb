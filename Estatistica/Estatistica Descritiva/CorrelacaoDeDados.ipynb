{
 "cells": [
  {
   "cell_type": "markdown",
   "id": "8b241959-2dcd-4264-8665-c213833e493e",
   "metadata": {},
   "source": [
    "## Correlação dos Dados\n",
    "Se, próximo de 1 ou -1 -> Tem correlação\n",
    "Se, próximo de 0 -> Não tem correlação"
   ]
  },
  {
   "cell_type": "code",
   "execution_count": 13,
   "id": "52e487cc-c40c-452b-bbf5-aedc3385ddd2",
   "metadata": {},
   "outputs": [],
   "source": [
    "#Correlação de Pearson\n",
    "from scipy.stats import pearsonr\n",
    "import numpy as np"
   ]
  },
  {
   "cell_type": "code",
   "execution_count": null,
   "id": "647f0e54-6acc-40bd-8163-76bcec58bd21",
   "metadata": {},
   "outputs": [],
   "source": [
    "## Exemplo com listas"
   ]
  },
  {
   "cell_type": "code",
   "execution_count": 12,
   "id": "f1067539-5dba-48fc-b683-c809866e9ecb",
   "metadata": {},
   "outputs": [
    {
     "data": {
      "text/plain": [
       "array([ 5,  8, 11, 14, 17])"
      ]
     },
     "execution_count": 12,
     "metadata": {},
     "output_type": "execute_result"
    }
   ],
   "source": [
    "a = np.array ([1, 2, 3, 4, 5])\n",
    "\n",
    "b = a * 3 + 2\n",
    "b"
   ]
  },
  {
   "cell_type": "code",
   "execution_count": 19,
   "id": "943999e8-1a84-4e0c-b0ce-3494c1cc23fe",
   "metadata": {},
   "outputs": [
    {
     "name": "stdout",
     "output_type": "stream",
     "text": [
      "PearsonRResult(statistic=np.float64(1.0), pvalue=np.float64(0.0))\n"
     ]
    }
   ],
   "source": [
    "print(pearsonr(a,b))"
   ]
  },
  {
   "cell_type": "markdown",
   "id": "72e4c609-226f-4e85-a988-0d70a7b8c8e3",
   "metadata": {},
   "source": [
    "## Testando a Correlação de Dados com os Dados do BigMac"
   ]
  },
  {
   "cell_type": "code",
   "execution_count": 21,
   "id": "50676cf3-0135-4e58-8da7-54483f40d9ff",
   "metadata": {},
   "outputs": [],
   "source": [
    "import pandas"
   ]
  },
  {
   "cell_type": "code",
   "execution_count": 25,
   "id": "1287f94f-589d-44de-9f11-88a5d9a9fa7b",
   "metadata": {},
   "outputs": [],
   "source": [
    "#Lendo os dados do csv\n",
    "df = pandas.read_csv('BigmacPriceJuly2022.csv')"
   ]
  },
  {
   "cell_type": "code",
   "execution_count": 23,
   "id": "11c2a6e7-f0fa-41b5-bcaa-9c5a7a633d42",
   "metadata": {},
   "outputs": [
    {
     "data": {
      "text/html": [
       "<div>\n",
       "<style scoped>\n",
       "    .dataframe tbody tr th:only-of-type {\n",
       "        vertical-align: middle;\n",
       "    }\n",
       "\n",
       "    .dataframe tbody tr th {\n",
       "        vertical-align: top;\n",
       "    }\n",
       "\n",
       "    .dataframe thead th {\n",
       "        text-align: right;\n",
       "    }\n",
       "</style>\n",
       "<table border=\"1\" class=\"dataframe\">\n",
       "  <thead>\n",
       "    <tr style=\"text-align: right;\">\n",
       "      <th></th>\n",
       "      <th>date</th>\n",
       "      <th>currency_code</th>\n",
       "      <th>name</th>\n",
       "      <th>local_price</th>\n",
       "      <th>dollar_ex</th>\n",
       "      <th>dollar_price</th>\n",
       "    </tr>\n",
       "  </thead>\n",
       "  <tbody>\n",
       "    <tr>\n",
       "      <th>0</th>\n",
       "      <td>2022-07-01</td>\n",
       "      <td>ARS</td>\n",
       "      <td>Argentina</td>\n",
       "      <td>590.00</td>\n",
       "      <td>129</td>\n",
       "      <td>4.57</td>\n",
       "    </tr>\n",
       "    <tr>\n",
       "      <th>1</th>\n",
       "      <td>2022-07-01</td>\n",
       "      <td>AUD</td>\n",
       "      <td>Australia</td>\n",
       "      <td>6.70</td>\n",
       "      <td>1</td>\n",
       "      <td>6.70</td>\n",
       "    </tr>\n",
       "    <tr>\n",
       "      <th>2</th>\n",
       "      <td>2022-07-01</td>\n",
       "      <td>EUR</td>\n",
       "      <td>Austria</td>\n",
       "      <td>4.35</td>\n",
       "      <td>1</td>\n",
       "      <td>4.35</td>\n",
       "    </tr>\n",
       "    <tr>\n",
       "      <th>3</th>\n",
       "      <td>2022-07-01</td>\n",
       "      <td>AZN</td>\n",
       "      <td>Azerbaijan</td>\n",
       "      <td>4.70</td>\n",
       "      <td>1</td>\n",
       "      <td>4.70</td>\n",
       "    </tr>\n",
       "    <tr>\n",
       "      <th>4</th>\n",
       "      <td>2022-07-01</td>\n",
       "      <td>BHD</td>\n",
       "      <td>Bahrain</td>\n",
       "      <td>1.60</td>\n",
       "      <td>1</td>\n",
       "      <td>1.60</td>\n",
       "    </tr>\n",
       "  </tbody>\n",
       "</table>\n",
       "</div>"
      ],
      "text/plain": [
       "         date currency_code        name  local_price  dollar_ex  dollar_price\n",
       "0  2022-07-01           ARS   Argentina       590.00        129          4.57\n",
       "1  2022-07-01           AUD   Australia         6.70          1          6.70\n",
       "2  2022-07-01           EUR     Austria         4.35          1          4.35\n",
       "3  2022-07-01           AZN  Azerbaijan         4.70          1          4.70\n",
       "4  2022-07-01           BHD     Bahrain         1.60          1          1.60"
      ]
     },
     "execution_count": 23,
     "metadata": {},
     "output_type": "execute_result"
    }
   ],
   "source": [
    "#Vendo os dados do topo\n",
    "df.head()"
   ]
  },
  {
   "cell_type": "code",
   "execution_count": 29,
   "id": "04152e78-9063-4839-a3f0-e6226eb9b2bd",
   "metadata": {},
   "outputs": [
    {
     "data": {
      "text/html": [
       "<div>\n",
       "<style scoped>\n",
       "    .dataframe tbody tr th:only-of-type {\n",
       "        vertical-align: middle;\n",
       "    }\n",
       "\n",
       "    .dataframe tbody tr th {\n",
       "        vertical-align: top;\n",
       "    }\n",
       "\n",
       "    .dataframe thead th {\n",
       "        text-align: right;\n",
       "    }\n",
       "</style>\n",
       "<table border=\"1\" class=\"dataframe\">\n",
       "  <thead>\n",
       "    <tr style=\"text-align: right;\">\n",
       "      <th></th>\n",
       "      <th>local_price</th>\n",
       "      <th>dollar_ex</th>\n",
       "      <th>dollar_price</th>\n",
       "    </tr>\n",
       "  </thead>\n",
       "  <tbody>\n",
       "    <tr>\n",
       "      <th>local_price</th>\n",
       "      <td>1.000000</td>\n",
       "      <td>0.954986</td>\n",
       "      <td>-0.002980</td>\n",
       "    </tr>\n",
       "    <tr>\n",
       "      <th>dollar_ex</th>\n",
       "      <td>0.954986</td>\n",
       "      <td>1.000000</td>\n",
       "      <td>-0.063468</td>\n",
       "    </tr>\n",
       "    <tr>\n",
       "      <th>dollar_price</th>\n",
       "      <td>-0.002980</td>\n",
       "      <td>-0.063468</td>\n",
       "      <td>1.000000</td>\n",
       "    </tr>\n",
       "  </tbody>\n",
       "</table>\n",
       "</div>"
      ],
      "text/plain": [
       "              local_price  dollar_ex  dollar_price\n",
       "local_price      1.000000   0.954986     -0.002980\n",
       "dollar_ex        0.954986   1.000000     -0.063468\n",
       "dollar_price    -0.002980  -0.063468      1.000000"
      ]
     },
     "execution_count": 29,
     "metadata": {},
     "output_type": "execute_result"
    }
   ],
   "source": [
    "# Correlação de Pearson\n",
    "# Calculando a relação de todas as colunas numéricas com outras colunas numéricas\n",
    "df[['local_price', 'dollar_ex', 'dollar_price']].corr()"
   ]
  },
  {
   "cell_type": "code",
   "execution_count": 30,
   "id": "a02b8de9-bcaa-4d3a-af1b-a69e9f420fc5",
   "metadata": {},
   "outputs": [
    {
     "data": {
      "text/html": [
       "<div>\n",
       "<style scoped>\n",
       "    .dataframe tbody tr th:only-of-type {\n",
       "        vertical-align: middle;\n",
       "    }\n",
       "\n",
       "    .dataframe tbody tr th {\n",
       "        vertical-align: top;\n",
       "    }\n",
       "\n",
       "    .dataframe thead th {\n",
       "        text-align: right;\n",
       "    }\n",
       "</style>\n",
       "<table border=\"1\" class=\"dataframe\">\n",
       "  <thead>\n",
       "    <tr style=\"text-align: right;\">\n",
       "      <th></th>\n",
       "      <th>local_price</th>\n",
       "      <th>dollar_ex</th>\n",
       "      <th>dollar_price</th>\n",
       "    </tr>\n",
       "  </thead>\n",
       "  <tbody>\n",
       "    <tr>\n",
       "      <th>local_price</th>\n",
       "      <td>1.000000</td>\n",
       "      <td>0.958868</td>\n",
       "      <td>-0.073513</td>\n",
       "    </tr>\n",
       "    <tr>\n",
       "      <th>dollar_ex</th>\n",
       "      <td>0.958868</td>\n",
       "      <td>1.000000</td>\n",
       "      <td>-0.313316</td>\n",
       "    </tr>\n",
       "    <tr>\n",
       "      <th>dollar_price</th>\n",
       "      <td>-0.073513</td>\n",
       "      <td>-0.313316</td>\n",
       "      <td>1.000000</td>\n",
       "    </tr>\n",
       "  </tbody>\n",
       "</table>\n",
       "</div>"
      ],
      "text/plain": [
       "              local_price  dollar_ex  dollar_price\n",
       "local_price      1.000000   0.958868     -0.073513\n",
       "dollar_ex        0.958868   1.000000     -0.313316\n",
       "dollar_price    -0.073513  -0.313316      1.000000"
      ]
     },
     "execution_count": 30,
     "metadata": {},
     "output_type": "execute_result"
    }
   ],
   "source": [
    "# Correlação de Spearmanr\n",
    "from scipy.stats import spearmanr\n",
    "\n",
    "df[['local_price', 'dollar_ex', 'dollar_price']].corr(method = 'spearman')"
   ]
  }
 ],
 "metadata": {
  "kernelspec": {
   "display_name": "Python 3 (ipykernel)",
   "language": "python",
   "name": "python3"
  },
  "language_info": {
   "codemirror_mode": {
    "name": "ipython",
    "version": 3
   },
   "file_extension": ".py",
   "mimetype": "text/x-python",
   "name": "python",
   "nbconvert_exporter": "python",
   "pygments_lexer": "ipython3",
   "version": "3.13.3"
  }
 },
 "nbformat": 4,
 "nbformat_minor": 5
}
