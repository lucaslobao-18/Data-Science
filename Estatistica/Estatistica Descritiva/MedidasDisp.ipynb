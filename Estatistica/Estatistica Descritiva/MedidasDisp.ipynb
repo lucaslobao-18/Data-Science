{
 "cells": [
  {
   "cell_type": "code",
   "execution_count": 1,
   "id": "1754a74a-f91d-43be-928c-ecdade800e16",
   "metadata": {},
   "outputs": [],
   "source": [
    "import pandas"
   ]
  },
  {
   "cell_type": "code",
   "execution_count": 2,
   "id": "0b8ec8cc-957b-456b-a905-2e52f9c94480",
   "metadata": {},
   "outputs": [],
   "source": [
    "df = pandas.read_csv('BigmacPriceJuly2022.csv')"
   ]
  },
  {
   "cell_type": "code",
   "execution_count": 3,
   "id": "ed62e950-23f9-4f4d-af1d-4ee1810c1722",
   "metadata": {},
   "outputs": [
    {
     "data": {
      "text/html": [
       "<div>\n",
       "<style scoped>\n",
       "    .dataframe tbody tr th:only-of-type {\n",
       "        vertical-align: middle;\n",
       "    }\n",
       "\n",
       "    .dataframe tbody tr th {\n",
       "        vertical-align: top;\n",
       "    }\n",
       "\n",
       "    .dataframe thead th {\n",
       "        text-align: right;\n",
       "    }\n",
       "</style>\n",
       "<table border=\"1\" class=\"dataframe\">\n",
       "  <thead>\n",
       "    <tr style=\"text-align: right;\">\n",
       "      <th></th>\n",
       "      <th>date</th>\n",
       "      <th>currency_code</th>\n",
       "      <th>name</th>\n",
       "      <th>local_price</th>\n",
       "      <th>dollar_ex</th>\n",
       "      <th>dollar_price</th>\n",
       "    </tr>\n",
       "  </thead>\n",
       "  <tbody>\n",
       "    <tr>\n",
       "      <th>0</th>\n",
       "      <td>2022-07-01</td>\n",
       "      <td>ARS</td>\n",
       "      <td>Argentina</td>\n",
       "      <td>590.00</td>\n",
       "      <td>129</td>\n",
       "      <td>4.57</td>\n",
       "    </tr>\n",
       "    <tr>\n",
       "      <th>1</th>\n",
       "      <td>2022-07-01</td>\n",
       "      <td>AUD</td>\n",
       "      <td>Australia</td>\n",
       "      <td>6.70</td>\n",
       "      <td>1</td>\n",
       "      <td>6.70</td>\n",
       "    </tr>\n",
       "    <tr>\n",
       "      <th>2</th>\n",
       "      <td>2022-07-01</td>\n",
       "      <td>EUR</td>\n",
       "      <td>Austria</td>\n",
       "      <td>4.35</td>\n",
       "      <td>1</td>\n",
       "      <td>4.35</td>\n",
       "    </tr>\n",
       "    <tr>\n",
       "      <th>3</th>\n",
       "      <td>2022-07-01</td>\n",
       "      <td>AZN</td>\n",
       "      <td>Azerbaijan</td>\n",
       "      <td>4.70</td>\n",
       "      <td>1</td>\n",
       "      <td>4.70</td>\n",
       "    </tr>\n",
       "    <tr>\n",
       "      <th>4</th>\n",
       "      <td>2022-07-01</td>\n",
       "      <td>BHD</td>\n",
       "      <td>Bahrain</td>\n",
       "      <td>1.60</td>\n",
       "      <td>1</td>\n",
       "      <td>1.60</td>\n",
       "    </tr>\n",
       "  </tbody>\n",
       "</table>\n",
       "</div>"
      ],
      "text/plain": [
       "         date currency_code        name  local_price  dollar_ex  dollar_price\n",
       "0  2022-07-01           ARS   Argentina       590.00        129          4.57\n",
       "1  2022-07-01           AUD   Australia         6.70          1          6.70\n",
       "2  2022-07-01           EUR     Austria         4.35          1          4.35\n",
       "3  2022-07-01           AZN  Azerbaijan         4.70          1          4.70\n",
       "4  2022-07-01           BHD     Bahrain         1.60          1          1.60"
      ]
     },
     "execution_count": 3,
     "metadata": {},
     "output_type": "execute_result"
    }
   ],
   "source": [
    "df.head()"
   ]
  },
  {
   "cell_type": "code",
   "execution_count": 4,
   "id": "583fc47a-09d7-4652-bc3c-1ead6a8d6c0d",
   "metadata": {},
   "outputs": [
    {
     "data": {
      "text/plain": [
       "np.float64(1.8311856107660458)"
      ]
     },
     "execution_count": 4,
     "metadata": {},
     "output_type": "execute_result"
    }
   ],
   "source": [
    "#Calculando a Variância\n",
    "df['dollar_price'].var()"
   ]
  },
  {
   "cell_type": "markdown",
   "id": "3c375139-a5df-4ddb-9fee-cbab9445b33d",
   "metadata": {},
   "source": [
    "## Desvio Padrão"
   ]
  },
  {
   "cell_type": "markdown",
   "id": "2818a531-1271-4070-9826-463efcd69e06",
   "metadata": {},
   "source": [
    "Nada mais é do que a raiz quadrada da variância"
   ]
  },
  {
   "cell_type": "code",
   "execution_count": 5,
   "id": "f15dc32a-9fc6-4b03-9618-efef6bf9cda4",
   "metadata": {},
   "outputs": [
    {
     "data": {
      "text/plain": [
       "np.float64(1.3532130692415167)"
      ]
     },
     "execution_count": 5,
     "metadata": {},
     "output_type": "execute_result"
    }
   ],
   "source": [
    "# Desvio Padrão com Pandas\n",
    "df['dollar_price'].std()"
   ]
  },
  {
   "cell_type": "markdown",
   "id": "680b94a4-7d5a-4370-aae8-b50ea29cd9ab",
   "metadata": {},
   "source": [
    "## Coeficiente de Variação"
   ]
  },
  {
   "cell_type": "markdown",
   "id": "9ab153c1-fdbd-4f50-8493-7938749724e2",
   "metadata": {},
   "source": [
    "Ele nos fala se nossos dados são muito variados ou não, porque tudo depende da escala em que nossos dados estão"
   ]
  },
  {
   "cell_type": "markdown",
   "id": "ab5e671d-22da-42d9-9004-ad68ed39a03b",
   "metadata": {},
   "source": [
    "CV = $\\frac{s}{\\overline{x}}$  Desvio Padrão dividido pela média, multiplicamos por x100 para obter a porcentagem"
   ]
  },
  {
   "cell_type": "markdown",
   "id": "d32c496d-47a3-4efc-a502-b103b3bc92e9",
   "metadata": {},
   "source": [
    "CV <= 15%         (Fraca Dispersão) |\n",
    "15% < CV >= 30%   (Moderada Dispersão) |\n",
    "CV > 30%          (Forte Dispersão) |"
   ]
  },
  {
   "cell_type": "code",
   "execution_count": 9,
   "id": "b39dc926-974a-42eb-87ee-2063cf17ca15",
   "metadata": {},
   "outputs": [
    {
     "data": {
      "text/plain": [
       "np.float64(33.800148027441985)"
      ]
     },
     "execution_count": 9,
     "metadata": {},
     "output_type": "execute_result"
    }
   ],
   "source": [
    "cv_bigmac = 100 * df['dollar_price'].std()/df['dollar_price'].mean()\n",
    "cv_bigmac"
   ]
  },
  {
   "cell_type": "code",
   "execution_count": null,
   "id": "fa0e0014-a617-4ad2-849e-1b3e43fb3665",
   "metadata": {},
   "outputs": [],
   "source": []
  }
 ],
 "metadata": {
  "kernelspec": {
   "display_name": "Python 3 (ipykernel)",
   "language": "python",
   "name": "python3"
  },
  "language_info": {
   "codemirror_mode": {
    "name": "ipython",
    "version": 3
   },
   "file_extension": ".py",
   "mimetype": "text/x-python",
   "name": "python",
   "nbconvert_exporter": "python",
   "pygments_lexer": "ipython3",
   "version": "3.13.2"
  }
 },
 "nbformat": 4,
 "nbformat_minor": 5
}
