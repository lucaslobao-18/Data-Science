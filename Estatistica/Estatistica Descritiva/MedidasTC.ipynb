{
 "cells": [
  {
   "cell_type": "markdown",
   "id": "2f81c239-9459-43a8-bd06-2c1fb4d0b0a1",
   "metadata": {},
   "source": [
    "Exemplo com dados do preço do BigMac desde 2000 a 2022 em diversos países"
   ]
  },
  {
   "cell_type": "code",
   "execution_count": 4,
   "id": "87cc16df-e532-4804-9036-533b4dca1334",
   "metadata": {},
   "outputs": [],
   "source": [
    "#importando a biblioteca pandas\n",
    "import pandas"
   ]
  },
  {
   "cell_type": "code",
   "execution_count": 13,
   "id": "3488dbaa-50f4-4af4-a545-67947681c098",
   "metadata": {},
   "outputs": [],
   "source": [
    "#carregando o dataset\n",
    "df = pandas.read_csv('BigmacPrice.csv')"
   ]
  },
  {
   "cell_type": "code",
   "execution_count": 14,
   "id": "5616efb0-6f3e-4800-828a-c5c367acb502",
   "metadata": {},
   "outputs": [
    {
     "data": {
      "text/html": [
       "<div>\n",
       "<style scoped>\n",
       "    .dataframe tbody tr th:only-of-type {\n",
       "        vertical-align: middle;\n",
       "    }\n",
       "\n",
       "    .dataframe tbody tr th {\n",
       "        vertical-align: top;\n",
       "    }\n",
       "\n",
       "    .dataframe thead th {\n",
       "        text-align: right;\n",
       "    }\n",
       "</style>\n",
       "<table border=\"1\" class=\"dataframe\">\n",
       "  <thead>\n",
       "    <tr style=\"text-align: right;\">\n",
       "      <th></th>\n",
       "      <th>date</th>\n",
       "      <th>currency_code</th>\n",
       "      <th>name</th>\n",
       "      <th>local_price</th>\n",
       "      <th>dollar_ex</th>\n",
       "      <th>dollar_price</th>\n",
       "    </tr>\n",
       "  </thead>\n",
       "  <tbody>\n",
       "    <tr>\n",
       "      <th>0</th>\n",
       "      <td>2000-04-01</td>\n",
       "      <td>ARS</td>\n",
       "      <td>Argentina</td>\n",
       "      <td>2.50</td>\n",
       "      <td>1</td>\n",
       "      <td>2.50</td>\n",
       "    </tr>\n",
       "    <tr>\n",
       "      <th>1</th>\n",
       "      <td>2000-04-01</td>\n",
       "      <td>AUD</td>\n",
       "      <td>Australia</td>\n",
       "      <td>2.59</td>\n",
       "      <td>1</td>\n",
       "      <td>2.59</td>\n",
       "    </tr>\n",
       "    <tr>\n",
       "      <th>2</th>\n",
       "      <td>2000-04-01</td>\n",
       "      <td>BRL</td>\n",
       "      <td>Brazil</td>\n",
       "      <td>2.95</td>\n",
       "      <td>1</td>\n",
       "      <td>2.95</td>\n",
       "    </tr>\n",
       "    <tr>\n",
       "      <th>3</th>\n",
       "      <td>2000-04-01</td>\n",
       "      <td>GBP</td>\n",
       "      <td>Britain</td>\n",
       "      <td>1.90</td>\n",
       "      <td>1</td>\n",
       "      <td>1.90</td>\n",
       "    </tr>\n",
       "    <tr>\n",
       "      <th>4</th>\n",
       "      <td>2000-04-01</td>\n",
       "      <td>CAD</td>\n",
       "      <td>Canada</td>\n",
       "      <td>2.85</td>\n",
       "      <td>1</td>\n",
       "      <td>2.85</td>\n",
       "    </tr>\n",
       "  </tbody>\n",
       "</table>\n",
       "</div>"
      ],
      "text/plain": [
       "         date currency_code       name  local_price  dollar_ex  dollar_price\n",
       "0  2000-04-01           ARS  Argentina         2.50          1          2.50\n",
       "1  2000-04-01           AUD  Australia         2.59          1          2.59\n",
       "2  2000-04-01           BRL     Brazil         2.95          1          2.95\n",
       "3  2000-04-01           GBP    Britain         1.90          1          1.90\n",
       "4  2000-04-01           CAD     Canada         2.85          1          2.85"
      ]
     },
     "execution_count": 14,
     "metadata": {},
     "output_type": "execute_result"
    }
   ],
   "source": [
    "df.head()"
   ]
  },
  {
   "cell_type": "code",
   "execution_count": 15,
   "id": "77cc1b29-1e8b-442e-92b1-14335cbbeddf",
   "metadata": {},
   "outputs": [
    {
     "data": {
      "text/plain": [
       "date              object\n",
       "currency_code     object\n",
       "name              object\n",
       "local_price      float64\n",
       "dollar_ex          int64\n",
       "dollar_price     float64\n",
       "dtype: object"
      ]
     },
     "execution_count": 15,
     "metadata": {},
     "output_type": "execute_result"
    }
   ],
   "source": [
    "#Verificando o tipo dos dados\n",
    "df.dtypes"
   ]
  },
  {
   "cell_type": "markdown",
   "id": "cb7bb887-5894-49a6-876f-af037df56e24",
   "metadata": {},
   "source": [
    "## Filtrando os dados de acordo com nosso interesse"
   ]
  },
  {
   "cell_type": "code",
   "execution_count": 16,
   "id": "e0409b27-2f99-41a5-970a-ef1ee4d28cbc",
   "metadata": {},
   "outputs": [],
   "source": [
    "#filtrando apenas na data 01/07/2022\n",
    "df_filtered = df[df['date'] == '2022-07-01']"
   ]
  },
  {
   "cell_type": "code",
   "execution_count": 22,
   "id": "353b1b24-895e-4435-a73b-cd44b2e87a9f",
   "metadata": {},
   "outputs": [
    {
     "data": {
      "text/html": [
       "<div>\n",
       "<style scoped>\n",
       "    .dataframe tbody tr th:only-of-type {\n",
       "        vertical-align: middle;\n",
       "    }\n",
       "\n",
       "    .dataframe tbody tr th {\n",
       "        vertical-align: top;\n",
       "    }\n",
       "\n",
       "    .dataframe thead th {\n",
       "        text-align: right;\n",
       "    }\n",
       "</style>\n",
       "<table border=\"1\" class=\"dataframe\">\n",
       "  <thead>\n",
       "    <tr style=\"text-align: right;\">\n",
       "      <th></th>\n",
       "      <th>date</th>\n",
       "      <th>currency_code</th>\n",
       "      <th>name</th>\n",
       "      <th>local_price</th>\n",
       "      <th>dollar_ex</th>\n",
       "      <th>dollar_price</th>\n",
       "    </tr>\n",
       "  </thead>\n",
       "  <tbody>\n",
       "    <tr>\n",
       "      <th>1876</th>\n",
       "      <td>2022-07-01</td>\n",
       "      <td>ARS</td>\n",
       "      <td>Argentina</td>\n",
       "      <td>590.00</td>\n",
       "      <td>129</td>\n",
       "      <td>4.57</td>\n",
       "    </tr>\n",
       "    <tr>\n",
       "      <th>1877</th>\n",
       "      <td>2022-07-01</td>\n",
       "      <td>AUD</td>\n",
       "      <td>Australia</td>\n",
       "      <td>6.70</td>\n",
       "      <td>1</td>\n",
       "      <td>6.70</td>\n",
       "    </tr>\n",
       "    <tr>\n",
       "      <th>1878</th>\n",
       "      <td>2022-07-01</td>\n",
       "      <td>EUR</td>\n",
       "      <td>Austria</td>\n",
       "      <td>4.35</td>\n",
       "      <td>1</td>\n",
       "      <td>4.35</td>\n",
       "    </tr>\n",
       "    <tr>\n",
       "      <th>1879</th>\n",
       "      <td>2022-07-01</td>\n",
       "      <td>AZN</td>\n",
       "      <td>Azerbaijan</td>\n",
       "      <td>4.70</td>\n",
       "      <td>1</td>\n",
       "      <td>4.70</td>\n",
       "    </tr>\n",
       "    <tr>\n",
       "      <th>1880</th>\n",
       "      <td>2022-07-01</td>\n",
       "      <td>BHD</td>\n",
       "      <td>Bahrain</td>\n",
       "      <td>1.60</td>\n",
       "      <td>1</td>\n",
       "      <td>1.60</td>\n",
       "    </tr>\n",
       "  </tbody>\n",
       "</table>\n",
       "</div>"
      ],
      "text/plain": [
       "            date currency_code        name  local_price  dollar_ex  \\\n",
       "1876  2022-07-01           ARS   Argentina       590.00        129   \n",
       "1877  2022-07-01           AUD   Australia         6.70          1   \n",
       "1878  2022-07-01           EUR     Austria         4.35          1   \n",
       "1879  2022-07-01           AZN  Azerbaijan         4.70          1   \n",
       "1880  2022-07-01           BHD     Bahrain         1.60          1   \n",
       "\n",
       "      dollar_price  \n",
       "1876          4.57  \n",
       "1877          6.70  \n",
       "1878          4.35  \n",
       "1879          4.70  \n",
       "1880          1.60  "
      ]
     },
     "execution_count": 22,
     "metadata": {},
     "output_type": "execute_result"
    }
   ],
   "source": [
    "#pega os itens do topo da lista\n",
    "df_filtered.head()"
   ]
  },
  {
   "cell_type": "code",
   "execution_count": 18,
   "id": "4217243a-6318-4c65-a753-59153051bb3b",
   "metadata": {},
   "outputs": [
    {
     "data": {
      "text/plain": [
       "date             70\n",
       "currency_code    70\n",
       "name             70\n",
       "local_price      70\n",
       "dollar_ex        70\n",
       "dollar_price     70\n",
       "dtype: int64"
      ]
     },
     "execution_count": 18,
     "metadata": {},
     "output_type": "execute_result"
    }
   ],
   "source": [
    "#conta quantos itens tem de cada coluna\n",
    "df_filtered.count()"
   ]
  },
  {
   "cell_type": "code",
   "execution_count": 23,
   "id": "5b10bb9d-2db4-4c74-8b75-a3f3d692aae7",
   "metadata": {},
   "outputs": [],
   "source": [
    "#exportando o DataFrame para csv\n",
    "df_filtered.to_csv('BigmacPriceJuly2022.csv', index = False)"
   ]
  },
  {
   "cell_type": "markdown",
   "id": "360666ac-dd10-4a11-86bc-2a3228d717ef",
   "metadata": {},
   "source": [
    "## Moda"
   ]
  },
  {
   "cell_type": "code",
   "execution_count": 24,
   "id": "d8a2610b-1de7-4c94-85b9-70b90336043a",
   "metadata": {},
   "outputs": [],
   "source": [
    "#Carrega o csv no dataframe\n",
    "df = pandas.read_csv('BigmacPriceJuly2022.csv')"
   ]
  },
  {
   "cell_type": "code",
   "execution_count": 25,
   "id": "294218ec-52fd-49d3-a87e-9bbfbcc87371",
   "metadata": {},
   "outputs": [
    {
     "data": {
      "text/plain": [
       "0    4.00\n",
       "1    4.58\n",
       "Name: dollar_price, dtype: float64"
      ]
     },
     "execution_count": 25,
     "metadata": {},
     "output_type": "execute_result"
    }
   ],
   "source": [
    "#função para calcular a moda\n",
    "df['dollar_price'].mode()"
   ]
  },
  {
   "cell_type": "code",
   "execution_count": 26,
   "id": "8420aa48-d562-4f78-80f1-c40745bf1356",
   "metadata": {},
   "outputs": [
    {
     "data": {
      "text/plain": [
       "dollar_price\n",
       "4.58    3\n",
       "4.00    3\n",
       "4.70    2\n",
       "3.00    2\n",
       "3.71    2\n",
       "       ..\n",
       "6.00    1\n",
       "5.15    1\n",
       "6.22    1\n",
       "2.00    1\n",
       "2.95    1\n",
       "Name: count, Length: 61, dtype: int64"
      ]
     },
     "execution_count": 26,
     "metadata": {},
     "output_type": "execute_result"
    }
   ],
   "source": [
    "#Contando as repetições de cada valor\n",
    "df['dollar_price'].value_counts()"
   ]
  },
  {
   "cell_type": "markdown",
   "id": "1a1902a4-64ec-4972-a8bd-729b4a4bc563",
   "metadata": {},
   "source": [
    "## Média"
   ]
  },
  {
   "cell_type": "code",
   "execution_count": 27,
   "id": "1ec4e56c-58cf-49a3-9b7a-4e818a55025b",
   "metadata": {},
   "outputs": [
    {
     "data": {
      "text/plain": [
       "np.float64(4.003571428571429)"
      ]
     },
     "execution_count": 27,
     "metadata": {},
     "output_type": "execute_result"
    }
   ],
   "source": [
    "#Função para calcular a média\n",
    "df['dollar_price'].mean()"
   ]
  },
  {
   "cell_type": "markdown",
   "id": "8052706a-1904-4256-ab31-61bc159e4781",
   "metadata": {},
   "source": [
    "## Mediana"
   ]
  },
  {
   "cell_type": "code",
   "execution_count": 29,
   "id": "a8b92988-c146-4589-9900-fe2e3cd269fd",
   "metadata": {},
   "outputs": [
    {
     "data": {
      "text/plain": [
       "np.float64(3.9050000000000002)"
      ]
     },
     "execution_count": 29,
     "metadata": {},
     "output_type": "execute_result"
    }
   ],
   "source": [
    "df['dollar_price'].median()"
   ]
  },
  {
   "cell_type": "code",
   "execution_count": null,
   "id": "3deb671d-d783-4b44-8fec-192f70466afe",
   "metadata": {},
   "outputs": [],
   "source": []
  }
 ],
 "metadata": {
  "kernelspec": {
   "display_name": "Python 3 (ipykernel)",
   "language": "python",
   "name": "python3"
  },
  "language_info": {
   "codemirror_mode": {
    "name": "ipython",
    "version": 3
   },
   "file_extension": ".py",
   "mimetype": "text/x-python",
   "name": "python",
   "nbconvert_exporter": "python",
   "pygments_lexer": "ipython3",
   "version": "3.13.2"
  }
 },
 "nbformat": 4,
 "nbformat_minor": 5
}
